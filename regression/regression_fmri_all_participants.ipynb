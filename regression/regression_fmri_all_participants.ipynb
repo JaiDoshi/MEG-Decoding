{
 "cells": [
  {
   "cell_type": "code",
   "execution_count": 1,
   "metadata": {},
   "outputs": [],
   "source": [
    "import numpy as np\n",
    "import mne\n",
    "import os\n",
    "from functools import partial \n",
    "import pandas as pd\n",
    "import pickle"
   ]
  },
  {
   "cell_type": "code",
   "execution_count": 2,
   "metadata": {},
   "outputs": [],
   "source": [
    "dir_name = '/scratch/jd5697/cv_project'"
   ]
  },
  {
   "cell_type": "code",
   "execution_count": 3,
   "metadata": {},
   "outputs": [
    {
     "name": "stdout",
     "output_type": "stream",
     "text": [
      "19848\n",
      "2400\n",
      "200\n",
      "22448\n"
     ]
    }
   ],
   "source": [
    "embeddings_train = np.load(os.path.join(dir_name, 'image_embeddings_vit_train_resplit.npy'), allow_pickle=True).item()\n",
    "embeddings_test = np.load(os.path.join(dir_name, 'image_embeddings_vit_test_resplit.npy'), allow_pickle=True).item()\n",
    "embeddings_test_small = np.load(os.path.join(dir_name, 'image_embeddings_vit_test_small_resplit.npy'), allow_pickle=True).item()\n",
    "\n",
    "print(len(embeddings_train))\n",
    "print(len(embeddings_test))\n",
    "print(len(embeddings_test_small))\n",
    "print(len(embeddings_train) + len(embeddings_test) + len(embeddings_test_small))"
   ]
  },
  {
   "cell_type": "code",
   "execution_count": 4,
   "metadata": {},
   "outputs": [],
   "source": [
    "# Assumes you downloaded the single trial responses in table format to this directory \n",
    "dir_name = '/scratch/jd5697/cv_project'\n",
    "\n",
    "# and that you're interested in the data for the first subject\n",
    "subs = ['01', '02', '03']"
   ]
  },
  {
   "cell_type": "code",
   "execution_count": 5,
   "metadata": {},
   "outputs": [
    {
     "name": "stdout",
     "output_type": "stream",
     "text": [
      "  trial_type  session  run  subject_id  trial_id            stimulus  \\\n",
      "0      train        1    1           1         0         dog_12s.jpg   \n",
      "1      train        1    1           1         1       mango_12s.jpg   \n",
      "2      train        1    1           1         2     spatula_12s.jpg   \n",
      "3       test        1    1           1         3  candelabra_14s.jpg   \n",
      "4      train        1    1           1         4       panda_12s.jpg   \n",
      "\n",
      "      concept                                                svd  \n",
      "0         dog  [0.39951390732182984, 6.410602435125346, -1.15...  \n",
      "1       mango  [-2.375556789045507, 2.7950678156120454, -0.97...  \n",
      "2     spatula  [-2.4297802479278907, 5.386573114293661, -0.97...  \n",
      "3  candelabra  [1.5577785519900746, 4.021682335479826, -1.027...  \n",
      "4       panda  [1.3613456781789681, 3.224342354229859, 0.4323...  \n",
      "(26220, 8)\n"
     ]
    }
   ],
   "source": [
    "# Read files for each of the subjects and concat into one dataframe\n",
    "dfs = []\n",
    "for sub in subs:\n",
    "    df = pickle.load(open(os.path.join(dir_name, 'sub-{}_responses_fmri_svd.pkl'.format(sub)), 'rb'))\n",
    "    dfs.append(df)\n",
    "df = pd.concat(dfs)\n",
    "\n",
    "print(df.head())\n",
    "print(df.shape)"
   ]
  },
  {
   "cell_type": "code",
   "execution_count": 6,
   "metadata": {},
   "outputs": [
    {
     "name": "stdout",
     "output_type": "stream",
     "text": [
      "stimulus\n",
      "cockroach_09s.jpg       3\n",
      "dog_12s.jpg             3\n",
      "mango_12s.jpg           3\n",
      "spatula_12s.jpg         3\n",
      "blanket_09s.jpg         3\n",
      "                       ..\n",
      "shirt_12s.jpg           3\n",
      "chicken_wire_12s.jpg    3\n",
      "mango_13s.jpg           3\n",
      "cow_12s.jpg             3\n",
      "bib_12s.jpg             3\n",
      "Name: count, Length: 8740, dtype: int64\n"
     ]
    }
   ],
   "source": [
    "print(df['stimulus'].value_counts())"
   ]
  },
  {
   "cell_type": "code",
   "execution_count": 7,
   "metadata": {},
   "outputs": [],
   "source": [
    "def process_name(name):\n",
    "    parts = name.split('/')\n",
    "    filename = parts[-1]\n",
    "    folder_name = '_'.join(filename.split('_')[:-1])\n",
    "    result = f\"{folder_name}/{filename}\"\n",
    "    return result"
   ]
  },
  {
   "cell_type": "code",
   "execution_count": 8,
   "metadata": {},
   "outputs": [
    {
     "data": {
      "text/plain": [
       "0                  dog/dog_12s.jpg\n",
       "1              mango/mango_12s.jpg\n",
       "2          spatula/spatula_12s.jpg\n",
       "3    candelabra/candelabra_14s.jpg\n",
       "4              panda/panda_12s.jpg\n",
       "Name: stimulus, dtype: object"
      ]
     },
     "execution_count": 8,
     "metadata": {},
     "output_type": "execute_result"
    }
   ],
   "source": [
    "df['stimulus'] = df['stimulus'].apply(process_name)\n",
    "df['stimulus'].head()"
   ]
  },
  {
   "cell_type": "code",
   "execution_count": 9,
   "metadata": {},
   "outputs": [
    {
     "name": "stdout",
     "output_type": "stream",
     "text": [
      "(18720, 8)\n",
      "(7200, 8)\n",
      "(300, 8)\n"
     ]
    }
   ],
   "source": [
    "train_df = df[df['stimulus'].isin(embeddings_train.keys())]\n",
    "test_df = df[df['stimulus'].isin(embeddings_test.keys())]\n",
    "test_small_df = df[df['stimulus'].isin(embeddings_test_small.keys())]\n",
    "\n",
    "print(train_df.shape)\n",
    "print(test_df.shape)\n",
    "print(test_small_df.shape)"
   ]
  },
  {
   "cell_type": "code",
   "execution_count": 10,
   "metadata": {},
   "outputs": [
    {
     "name": "stdout",
     "output_type": "stream",
     "text": [
      "(18720, 8740)\n",
      "(7200, 8740)\n",
      "(300, 8740)\n"
     ]
    }
   ],
   "source": [
    "fmri_data_train = np.vstack(train_df['svd'])\n",
    "fmri_data_test = np.vstack(test_df['svd'])\n",
    "fmri_data_test_small = np.vstack(test_small_df['svd'])\n",
    "\n",
    "print(fmri_data_train.shape)\n",
    "print(fmri_data_test.shape)\n",
    "print(fmri_data_test_small.shape)"
   ]
  },
  {
   "cell_type": "code",
   "execution_count": 11,
   "metadata": {},
   "outputs": [
    {
     "name": "stdout",
     "output_type": "stream",
     "text": [
      "(18720, 768)\n",
      "(7200, 768)\n",
      "(300, 768)\n"
     ]
    }
   ],
   "source": [
    "embeddings_data_train = np.vstack([embeddings_train[key] for key in train_df['stimulus']])\n",
    "embeddings_data_test = np.vstack([embeddings_test[key] for key in test_df['stimulus']])\n",
    "embeddings_data_test_small = np.vstack([embeddings_test_small[key] for key in test_small_df['stimulus']])\n",
    "\n",
    "print(embeddings_data_train.shape)\n",
    "print(embeddings_data_test.shape)\n",
    "print(embeddings_data_test_small.shape)"
   ]
  },
  {
   "cell_type": "code",
   "execution_count": 12,
   "metadata": {},
   "outputs": [],
   "source": [
    "from cuml.preprocessing import StandardScaler\n",
    "scaler = StandardScaler()\n",
    "fmri_data_train = scaler.fit_transform(fmri_data_train)\n",
    "fmri_data_test = scaler.transform(fmri_data_test)\n",
    "fmri_data_test_small = scaler.transform(fmri_data_test_small)"
   ]
  },
  {
   "cell_type": "code",
   "execution_count": 13,
   "metadata": {},
   "outputs": [],
   "source": [
    "import torch\n",
    "import torch.nn as nn\n",
    "import torch.optim as optim\n",
    "from torch.utils.data import DataLoader, TensorDataset, random_split\n",
    "import matplotlib.pyplot as plt"
   ]
  },
  {
   "cell_type": "code",
   "execution_count": 14,
   "metadata": {},
   "outputs": [],
   "source": [
    "# Define the neural network\n",
    "class MLPRegressor(nn.Module):\n",
    "    def __init__(self, input_size, output_size):\n",
    "        super(MLPRegressor, self).__init__()\n",
    "        self.model = nn.Sequential(\n",
    "            nn.Linear(input_size, output_size),\n",
    "        )\n",
    "\n",
    "    def forward(self, x):\n",
    "        return self.model(x)"
   ]
  },
  {
   "cell_type": "code",
   "execution_count": 20,
   "metadata": {},
   "outputs": [],
   "source": [
    "# Hyperparameters\n",
    "input_size = fmri_data_train.shape[1]\n",
    "output_size = embeddings_data_train.shape[1]\n",
    "batch_size = 64\n",
    "max_epochs = 5000\n",
    "learning_rate = 0.003\n",
    "patience = 2\n",
    "\n",
    "# Check for GPU\n",
    "device = torch.device(\"cuda\" if torch.cuda.is_available() else \"cpu\")\n",
    "\n",
    "# Prepare data\n",
    "data_tensor = torch.tensor(fmri_data_train, dtype=torch.float32).to(device)\n",
    "target_tensor = torch.tensor(embeddings_data_train, dtype=torch.float32).to(device)\n",
    "dataset = TensorDataset(data_tensor, target_tensor)\n",
    "\n",
    "# Split dataset into train and validation sets\n",
    "val_size = int(0.2 * len(dataset))\n",
    "train_size = len(dataset) - val_size\n",
    "train_dataset, val_dataset = random_split(dataset, [train_size, val_size])\n",
    "\n",
    "train_loader = DataLoader(train_dataset, batch_size=batch_size, shuffle=True)\n",
    "val_loader = DataLoader(val_dataset, batch_size=batch_size, shuffle=False)\n",
    "\n",
    "# Initialize model, loss, and optimizer\n",
    "model = MLPRegressor(input_size, output_size).to(device)\n",
    "criterion = nn.MSELoss()\n",
    "optimizer = optim.SGD(model.parameters(), lr=learning_rate, momentum=0.9)\n",
    "\n",
    "# Learning rate schedule\n",
    "#scheduler = optim.lr_scheduler.LambdaLR(optimizer, lr_lambda=lambda epoch: 1 / (1 + 0.001 * epoch))"
   ]
  },
  {
   "cell_type": "code",
   "execution_count": 16,
   "metadata": {},
   "outputs": [],
   "source": [
    "# Training loop\n",
    "def train_model():\n",
    "    best_val_loss = float('inf')\n",
    "    patience_counter = 0\n",
    "\n",
    "    train_loss_history = []\n",
    "    val_loss_history = []\n",
    "\n",
    "    for epoch in range(max_epochs):\n",
    "        model.train()\n",
    "        running_loss = 0.0\n",
    "        \n",
    "        for inputs, targets in train_loader:\n",
    "            # Move data to device\n",
    "            inputs, targets = inputs.to(device), targets.to(device)\n",
    "\n",
    "            # Forward pass\n",
    "            outputs = model(inputs)\n",
    "            loss = criterion(outputs, targets)\n",
    "\n",
    "            # Backward pass\n",
    "            optimizer.zero_grad()\n",
    "            loss.backward()\n",
    "            optimizer.step()\n",
    "\n",
    "            running_loss += loss.item()\n",
    "\n",
    "        avg_train_loss = running_loss / len(train_loader)\n",
    "        train_loss_history.append(avg_train_loss)\n",
    "\n",
    "        # Validation loss\n",
    "        model.eval()\n",
    "        val_loss = 0.0\n",
    "        with torch.no_grad():\n",
    "            for val_inputs, val_targets in val_loader:\n",
    "                val_inputs, val_targets = val_inputs.to(device), val_targets.to(device)\n",
    "                val_outputs = model(val_inputs)\n",
    "                val_loss += criterion(val_outputs, val_targets).item()\n",
    "\n",
    "        avg_val_loss = val_loss / len(val_loader)\n",
    "        val_loss_history.append(avg_val_loss)\n",
    "\n",
    "        print(f\"Epoch [{epoch+1}/{max_epochs}], Train Loss: {avg_train_loss:.4f}, Val Loss: {avg_val_loss:.4f}\")\n",
    "\n",
    "        # Early stopping\n",
    "        if avg_val_loss < best_val_loss:\n",
    "            best_val_loss = avg_val_loss\n",
    "            patience_counter = 0\n",
    "        else:\n",
    "            patience_counter += 1\n",
    "\n",
    "        if patience_counter >= patience:\n",
    "            print(\"Early stopping triggered.\")\n",
    "            break\n",
    "\n",
    "        # Update learning rate\n",
    "        #scheduler.step()\n",
    "\n",
    "    # Plot loss curves\n",
    "    plt.figure(figsize=(10, 6))\n",
    "    plt.plot(train_loss_history, label='Train Loss')\n",
    "    plt.plot(val_loss_history, label='Validation Loss')\n",
    "    plt.xlabel('Epochs')\n",
    "    plt.ylabel('Loss')\n",
    "    plt.title('Loss Curves')\n",
    "    plt.legend()\n",
    "    plt.show()"
   ]
  },
  {
   "cell_type": "code",
   "execution_count": 21,
   "metadata": {},
   "outputs": [
    {
     "name": "stdout",
     "output_type": "stream",
     "text": [
      "Epoch [1/5000], Train Loss: 0.7820, Val Loss: 0.7756\n",
      "Epoch [2/5000], Train Loss: 0.7531, Val Loss: 0.7632\n"
     ]
    },
    {
     "name": "stdout",
     "output_type": "stream",
     "text": [
      "Epoch [3/5000], Train Loss: 0.7255, Val Loss: 0.7511\n",
      "Epoch [4/5000], Train Loss: 0.6991, Val Loss: 0.7395\n",
      "Epoch [5/5000], Train Loss: 0.6740, Val Loss: 0.7283\n",
      "Epoch [6/5000], Train Loss: 0.6501, Val Loss: 0.7174\n",
      "Epoch [7/5000], Train Loss: 0.6272, Val Loss: 0.7069\n",
      "Epoch [8/5000], Train Loss: 0.6054, Val Loss: 0.6967\n",
      "Epoch [9/5000], Train Loss: 0.5846, Val Loss: 0.6868\n",
      "Epoch [10/5000], Train Loss: 0.5647, Val Loss: 0.6772\n",
      "Epoch [11/5000], Train Loss: 0.5458, Val Loss: 0.6680\n",
      "Epoch [12/5000], Train Loss: 0.5276, Val Loss: 0.6590\n",
      "Epoch [13/5000], Train Loss: 0.5103, Val Loss: 0.6504\n",
      "Epoch [14/5000], Train Loss: 0.4938, Val Loss: 0.6420\n",
      "Epoch [15/5000], Train Loss: 0.4780, Val Loss: 0.6338\n",
      "Epoch [16/5000], Train Loss: 0.4629, Val Loss: 0.6259\n",
      "Epoch [17/5000], Train Loss: 0.4485, Val Loss: 0.6183\n",
      "Epoch [18/5000], Train Loss: 0.4347, Val Loss: 0.6109\n",
      "Epoch [19/5000], Train Loss: 0.4215, Val Loss: 0.6037\n",
      "Epoch [20/5000], Train Loss: 0.4089, Val Loss: 0.5968\n",
      "Epoch [21/5000], Train Loss: 0.3969, Val Loss: 0.5900\n",
      "Epoch [22/5000], Train Loss: 0.3854, Val Loss: 0.5835\n",
      "Epoch [23/5000], Train Loss: 0.3743, Val Loss: 0.5771\n",
      "Epoch [24/5000], Train Loss: 0.3638, Val Loss: 0.5710\n",
      "Epoch [25/5000], Train Loss: 0.3537, Val Loss: 0.5651\n",
      "Epoch [26/5000], Train Loss: 0.3440, Val Loss: 0.5593\n",
      "Epoch [27/5000], Train Loss: 0.3348, Val Loss: 0.5536\n",
      "Epoch [28/5000], Train Loss: 0.3259, Val Loss: 0.5482\n",
      "Epoch [29/5000], Train Loss: 0.3175, Val Loss: 0.5430\n",
      "Epoch [30/5000], Train Loss: 0.3093, Val Loss: 0.5378\n",
      "Epoch [31/5000], Train Loss: 0.3015, Val Loss: 0.5329\n",
      "Epoch [32/5000], Train Loss: 0.2941, Val Loss: 0.5281\n",
      "Epoch [33/5000], Train Loss: 0.2869, Val Loss: 0.5234\n",
      "Epoch [34/5000], Train Loss: 0.2801, Val Loss: 0.5189\n",
      "Epoch [35/5000], Train Loss: 0.2735, Val Loss: 0.5145\n",
      "Epoch [36/5000], Train Loss: 0.2672, Val Loss: 0.5102\n",
      "Epoch [37/5000], Train Loss: 0.2612, Val Loss: 0.5061\n",
      "Epoch [38/5000], Train Loss: 0.2554, Val Loss: 0.5020\n",
      "Epoch [39/5000], Train Loss: 0.2498, Val Loss: 0.4981\n",
      "Epoch [40/5000], Train Loss: 0.2445, Val Loss: 0.4943\n",
      "Epoch [41/5000], Train Loss: 0.2394, Val Loss: 0.4907\n",
      "Epoch [42/5000], Train Loss: 0.2344, Val Loss: 0.4871\n",
      "Epoch [43/5000], Train Loss: 0.2297, Val Loss: 0.4836\n",
      "Epoch [44/5000], Train Loss: 0.2252, Val Loss: 0.4803\n",
      "Epoch [45/5000], Train Loss: 0.2208, Val Loss: 0.4770\n",
      "Epoch [46/5000], Train Loss: 0.2166, Val Loss: 0.4738\n",
      "Epoch [47/5000], Train Loss: 0.2126, Val Loss: 0.4708\n",
      "Epoch [48/5000], Train Loss: 0.2087, Val Loss: 0.4678\n",
      "Epoch [49/5000], Train Loss: 0.2050, Val Loss: 0.4649\n",
      "Epoch [50/5000], Train Loss: 0.2014, Val Loss: 0.4620\n",
      "Epoch [51/5000], Train Loss: 0.1980, Val Loss: 0.4593\n",
      "Epoch [52/5000], Train Loss: 0.1947, Val Loss: 0.4567\n",
      "Epoch [53/5000], Train Loss: 0.1915, Val Loss: 0.4541\n",
      "Epoch [54/5000], Train Loss: 0.1884, Val Loss: 0.4516\n",
      "Epoch [55/5000], Train Loss: 0.1855, Val Loss: 0.4491\n",
      "Epoch [56/5000], Train Loss: 0.1826, Val Loss: 0.4468\n",
      "Epoch [57/5000], Train Loss: 0.1799, Val Loss: 0.4445\n",
      "Epoch [58/5000], Train Loss: 0.1773, Val Loss: 0.4422\n",
      "Epoch [59/5000], Train Loss: 0.1747, Val Loss: 0.4401\n",
      "Epoch [60/5000], Train Loss: 0.1723, Val Loss: 0.4380\n",
      "Epoch [61/5000], Train Loss: 0.1699, Val Loss: 0.4359\n",
      "Epoch [62/5000], Train Loss: 0.1677, Val Loss: 0.4340\n",
      "Epoch [63/5000], Train Loss: 0.1655, Val Loss: 0.4320\n",
      "Epoch [64/5000], Train Loss: 0.1633, Val Loss: 0.4302\n",
      "Epoch [65/5000], Train Loss: 0.1613, Val Loss: 0.4284\n",
      "Epoch [66/5000], Train Loss: 0.1593, Val Loss: 0.4266\n",
      "Epoch [67/5000], Train Loss: 0.1574, Val Loss: 0.4249\n",
      "Epoch [68/5000], Train Loss: 0.1556, Val Loss: 0.4232\n",
      "Epoch [69/5000], Train Loss: 0.1538, Val Loss: 0.4216\n",
      "Epoch [70/5000], Train Loss: 0.1521, Val Loss: 0.4201\n",
      "Epoch [71/5000], Train Loss: 0.1505, Val Loss: 0.4185\n",
      "Epoch [72/5000], Train Loss: 0.1489, Val Loss: 0.4171\n",
      "Epoch [73/5000], Train Loss: 0.1473, Val Loss: 0.4156\n",
      "Epoch [74/5000], Train Loss: 0.1458, Val Loss: 0.4143\n",
      "Epoch [75/5000], Train Loss: 0.1444, Val Loss: 0.4129\n",
      "Epoch [76/5000], Train Loss: 0.1430, Val Loss: 0.4116\n",
      "Epoch [77/5000], Train Loss: 0.1416, Val Loss: 0.4103\n",
      "Epoch [78/5000], Train Loss: 0.1403, Val Loss: 0.4091\n",
      "Epoch [79/5000], Train Loss: 0.1391, Val Loss: 0.4079\n",
      "Epoch [80/5000], Train Loss: 0.1378, Val Loss: 0.4068\n",
      "Epoch [81/5000], Train Loss: 0.1367, Val Loss: 0.4056\n",
      "Epoch [82/5000], Train Loss: 0.1355, Val Loss: 0.4046\n",
      "Epoch [83/5000], Train Loss: 0.1344, Val Loss: 0.4035\n",
      "Epoch [84/5000], Train Loss: 0.1333, Val Loss: 0.4025\n",
      "Epoch [85/5000], Train Loss: 0.1323, Val Loss: 0.4015\n",
      "Epoch [86/5000], Train Loss: 0.1313, Val Loss: 0.4005\n",
      "Epoch [87/5000], Train Loss: 0.1303, Val Loss: 0.3996\n",
      "Epoch [88/5000], Train Loss: 0.1293, Val Loss: 0.3987\n",
      "Epoch [89/5000], Train Loss: 0.1284, Val Loss: 0.3978\n",
      "Epoch [90/5000], Train Loss: 0.1275, Val Loss: 0.3970\n",
      "Epoch [91/5000], Train Loss: 0.1267, Val Loss: 0.3962\n",
      "Epoch [92/5000], Train Loss: 0.1258, Val Loss: 0.3954\n",
      "Epoch [93/5000], Train Loss: 0.1250, Val Loss: 0.3946\n",
      "Epoch [94/5000], Train Loss: 0.1242, Val Loss: 0.3939\n",
      "Epoch [95/5000], Train Loss: 0.1234, Val Loss: 0.3932\n",
      "Epoch [96/5000], Train Loss: 0.1227, Val Loss: 0.3925\n",
      "Epoch [97/5000], Train Loss: 0.1220, Val Loss: 0.3918\n",
      "Epoch [98/5000], Train Loss: 0.1213, Val Loss: 0.3912\n",
      "Epoch [99/5000], Train Loss: 0.1206, Val Loss: 0.3906\n",
      "Epoch [100/5000], Train Loss: 0.1199, Val Loss: 0.3900\n",
      "Epoch [101/5000], Train Loss: 0.1193, Val Loss: 0.3894\n",
      "Epoch [102/5000], Train Loss: 0.1186, Val Loss: 0.3888\n",
      "Epoch [103/5000], Train Loss: 0.1180, Val Loss: 0.3883\n",
      "Epoch [104/5000], Train Loss: 0.1174, Val Loss: 0.3878\n",
      "Epoch [105/5000], Train Loss: 0.1168, Val Loss: 0.3872\n",
      "Epoch [106/5000], Train Loss: 0.1163, Val Loss: 0.3868\n",
      "Epoch [107/5000], Train Loss: 0.1157, Val Loss: 0.3863\n",
      "Epoch [108/5000], Train Loss: 0.1152, Val Loss: 0.3859\n",
      "Epoch [109/5000], Train Loss: 0.1147, Val Loss: 0.3854\n",
      "Epoch [110/5000], Train Loss: 0.1142, Val Loss: 0.3850\n",
      "Epoch [111/5000], Train Loss: 0.1137, Val Loss: 0.3846\n",
      "Epoch [112/5000], Train Loss: 0.1132, Val Loss: 0.3842\n",
      "Epoch [113/5000], Train Loss: 0.1127, Val Loss: 0.3839\n",
      "Epoch [114/5000], Train Loss: 0.1123, Val Loss: 0.3835\n",
      "Epoch [115/5000], Train Loss: 0.1118, Val Loss: 0.3832\n",
      "Epoch [116/5000], Train Loss: 0.1114, Val Loss: 0.3828\n",
      "Epoch [117/5000], Train Loss: 0.1109, Val Loss: 0.3825\n",
      "Epoch [118/5000], Train Loss: 0.1105, Val Loss: 0.3822\n",
      "Epoch [119/5000], Train Loss: 0.1101, Val Loss: 0.3819\n",
      "Epoch [120/5000], Train Loss: 0.1097, Val Loss: 0.3817\n",
      "Epoch [121/5000], Train Loss: 0.1093, Val Loss: 0.3814\n",
      "Epoch [122/5000], Train Loss: 0.1090, Val Loss: 0.3812\n",
      "Epoch [123/5000], Train Loss: 0.1086, Val Loss: 0.3809\n",
      "Epoch [124/5000], Train Loss: 0.1082, Val Loss: 0.3807\n",
      "Epoch [125/5000], Train Loss: 0.1079, Val Loss: 0.3805\n",
      "Epoch [126/5000], Train Loss: 0.1076, Val Loss: 0.3803\n",
      "Epoch [127/5000], Train Loss: 0.1072, Val Loss: 0.3801\n",
      "Epoch [128/5000], Train Loss: 0.1069, Val Loss: 0.3800\n",
      "Epoch [129/5000], Train Loss: 0.1066, Val Loss: 0.3798\n",
      "Epoch [130/5000], Train Loss: 0.1063, Val Loss: 0.3796\n",
      "Epoch [131/5000], Train Loss: 0.1060, Val Loss: 0.3795\n",
      "Epoch [132/5000], Train Loss: 0.1057, Val Loss: 0.3793\n",
      "Epoch [133/5000], Train Loss: 0.1054, Val Loss: 0.3792\n",
      "Epoch [134/5000], Train Loss: 0.1051, Val Loss: 0.3791\n",
      "Epoch [135/5000], Train Loss: 0.1048, Val Loss: 0.3790\n",
      "Epoch [136/5000], Train Loss: 0.1045, Val Loss: 0.3789\n",
      "Epoch [137/5000], Train Loss: 0.1043, Val Loss: 0.3788\n",
      "Epoch [138/5000], Train Loss: 0.1040, Val Loss: 0.3787\n",
      "Epoch [139/5000], Train Loss: 0.1037, Val Loss: 0.3786\n",
      "Epoch [140/5000], Train Loss: 0.1035, Val Loss: 0.3786\n",
      "Epoch [141/5000], Train Loss: 0.1032, Val Loss: 0.3785\n",
      "Epoch [142/5000], Train Loss: 0.1030, Val Loss: 0.3785\n",
      "Epoch [143/5000], Train Loss: 0.1028, Val Loss: 0.3784\n",
      "Epoch [144/5000], Train Loss: 0.1025, Val Loss: 0.3784\n",
      "Epoch [145/5000], Train Loss: 0.1023, Val Loss: 0.3784\n",
      "Epoch [146/5000], Train Loss: 0.1021, Val Loss: 0.3783\n",
      "Epoch [147/5000], Train Loss: 0.1019, Val Loss: 0.3783\n",
      "Epoch [148/5000], Train Loss: 0.1017, Val Loss: 0.3783\n",
      "Epoch [149/5000], Train Loss: 0.1014, Val Loss: 0.3783\n",
      "Epoch [150/5000], Train Loss: 0.1012, Val Loss: 0.3783\n",
      "Epoch [151/5000], Train Loss: 0.1010, Val Loss: 0.3783\n",
      "Early stopping triggered.\n"
     ]
    },
    {
     "data": {
      "image/png": "[encoded data removed]",
      "text/plain": [
       "<Figure size 1000x600 with 1 Axes>"
      ]
     },
     "metadata": {},
     "output_type": "display_data"
    }
   ],
   "source": [
    "train_model()"
   ]
  },
  {
   "cell_type": "code",
   "execution_count": 22,
   "metadata": {},
   "outputs": [],
   "source": [
    "def make_predictions(data):\n",
    "    # Prepare test data\n",
    "    test_tensor = torch.tensor(data, dtype=torch.float32).to(device)\n",
    "    model.eval()\n",
    "    with torch.no_grad():\n",
    "        predictions = model(test_tensor)\n",
    "    return predictions.cpu().numpy()"
   ]
  },
  {
   "cell_type": "code",
   "execution_count": 23,
   "metadata": {},
   "outputs": [],
   "source": [
    "from sklearn.metrics.pairwise import cosine_similarity\n",
    "\n",
    "def evaluate_top_k_accuracy(y_pred, y_true, k=5, num_participants=1):\n",
    "    \"\"\"Evaluate top-k accuracy using cosine similarity for embeddings.\"\"\"\n",
    "    num_indices = y_true.shape[0]/num_participants\n",
    "\n",
    "    correct_predictions = 0\n",
    "\n",
    "    for i in range(num_participants):\n",
    "        y_pred_participant = y_pred[int(i*num_indices):int((i+1)*num_indices)]\n",
    "        y_true_participant = y_true[int(i*num_indices):int((i+1)*num_indices)]\n",
    "        n_samples = y_true_participant.shape[0]\n",
    "\n",
    "        ## returns a n_samples X n_samples matrix\n",
    "        similarity_matrix = cosine_similarity(y_pred_participant, y_true_participant)\n",
    "        \n",
    "        # Get the indices of the sorted similarities in descending order\n",
    "        sorted_indices = np.argsort(-similarity_matrix, axis=1) #axis = 1 sorts across i.e. sorts across y_true for each pred\n",
    "        \n",
    "        # Check if the true index is within the top-k predictions for each sample\n",
    "        for i in range(n_samples):\n",
    "            if i in sorted_indices[i, :k]:\n",
    "                correct_predictions += 1\n",
    "    \n",
    "    top_k_acc = correct_predictions / y_true.shape[0]\n",
    "    return top_k_acc"
   ]
  },
  {
   "cell_type": "code",
   "execution_count": 24,
   "metadata": {},
   "outputs": [
    {
     "name": "stdout",
     "output_type": "stream",
     "text": [
      "Top-5 accuracy: 0.0019\n"
     ]
    }
   ],
   "source": [
    "top_5_acc = evaluate_top_k_accuracy(make_predictions(fmri_data_test), embeddings_data_test, k=5, num_participants=3)\n",
    "print(f\"Top-5 accuracy: {top_5_acc:.4f}\")"
   ]
  },
  {
   "cell_type": "code",
   "execution_count": 25,
   "metadata": {},
   "outputs": [
    {
     "name": "stdout",
     "output_type": "stream",
     "text": [
      "0.03\n"
     ]
    }
   ],
   "source": [
    "top_5_acc = evaluate_top_k_accuracy(make_predictions(fmri_data_test_small), embeddings_data_test_small, k=5, num_participants=3)\n",
    "print(top_5_acc)"
   ]
  },
  {
   "cell_type": "code",
   "execution_count": 26,
   "metadata": {},
   "outputs": [
    {
     "name": "stdout",
     "output_type": "stream",
     "text": [
      "0.7998397435897436\n"
     ]
    }
   ],
   "source": [
    "top_5_acc = evaluate_top_k_accuracy(make_predictions(fmri_data_train), embeddings_data_train, k=5, num_participants=3)\n",
    "print(top_5_acc)"
   ]
  },
  {
   "cell_type": "code",
   "execution_count": 27,
   "metadata": {},
   "outputs": [],
   "source": [
    "#Save the PyTorch model\n",
    "torch.save(model.state_dict(), os.path.join(dir_name, 'fmri_mlp.pth'))"
   ]
  },
  {
   "cell_type": "code",
   "execution_count": 11,
   "metadata": {},
   "outputs": [
    {
     "name": "stdout",
     "output_type": "stream",
     "text": [
      "6240\n",
      "2400\n",
      "100\n"
     ]
    }
   ],
   "source": [
    "# embeddings_train_fmri_subset = {key: embeddings_train[key] for key in train_df['stimulus']}\n",
    "# embeddings_test_fmri_subset = {key: embeddings_test[key] for key in test_df['stimulus']}\n",
    "# embeddings_test_small_fmri_subset = {key: embeddings_test_small[key] for key in test_small_df['stimulus']}\n",
    "\n",
    "# print(len(embeddings_train_fmri_subset))\n",
    "# print(len(embeddings_test_fmri_subset))\n",
    "# print(len(embeddings_test_small_fmri_subset))"
   ]
  },
  {
   "cell_type": "code",
   "execution_count": 14,
   "metadata": {},
   "outputs": [],
   "source": [
    "# np.save(os.path.join(dir_name, 'image_embeddings_vit_train_fmri_subset.npy'), embeddings_train_fmri_subset)\n",
    "# np.save(os.path.join(dir_name, 'image_embeddings_vit_test_fmri_subset.npy'), embeddings_test_fmri_subset)\n",
    "# np.save(os.path.join(dir_name, 'image_embeddings_vit_test_small_fmri_subset.npy'), embeddings_test_small_fmri_subset)"
   ]
  },
  {
   "cell_type": "code",
   "execution_count": null,
   "metadata": {},
   "outputs": [],
   "source": []
  }
 ],
 "metadata": {
  "kernelspec": {
   "display_name": "Python 3 (ipykernel)",
   "language": "python",
   "name": "python3"
  },
  "language_info": {
   "codemirror_mode": {
    "name": "ipython",
    "version": 3
   },
   "file_extension": ".py",
   "mimetype": "text/x-python",
   "name": "python",
   "nbconvert_exporter": "python",
   "pygments_lexer": "ipython3",
   "version": "3.12.2"
  }
 },
 "nbformat": 4,
 "nbformat_minor": 2
}
