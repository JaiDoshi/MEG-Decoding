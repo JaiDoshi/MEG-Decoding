{
 "cells": [
  {
   "cell_type": "code",
   "execution_count": 1,
   "metadata": {},
   "outputs": [],
   "source": [
    "import numpy as np\n",
    "import mne\n",
    "import os\n",
    "from functools import partial \n",
    "import pandas as pd\n",
    "import pickle\n",
    "import mne"
   ]
  },
  {
   "cell_type": "code",
   "execution_count": 2,
   "metadata": {},
   "outputs": [],
   "source": [
    "dir_name = '/scratch/jd5697/cv_project'"
   ]
  },
  {
   "cell_type": "code",
   "execution_count": 3,
   "metadata": {},
   "outputs": [
    {
     "name": "stdout",
     "output_type": "stream",
     "text": [
      "6240\n",
      "2400\n",
      "100\n",
      "8740\n"
     ]
    }
   ],
   "source": [
    "embeddings_train = np.load(os.path.join(dir_name, 'image_embeddings_vit_train_fmri_subset.npy'), allow_pickle=True).item()\n",
    "embeddings_test = np.load(os.path.join(dir_name, 'image_embeddings_vit_test_fmri_subset.npy'), allow_pickle=True).item()\n",
    "embeddings_test_small = np.load(os.path.join(dir_name, 'image_embeddings_vit_test_small_fmri_subset.npy'), allow_pickle=True).item()\n",
    "\n",
    "print(len(embeddings_train))\n",
    "print(len(embeddings_test))\n",
    "print(len(embeddings_test_small))\n",
    "print(len(embeddings_train) + len(embeddings_test) + len(embeddings_test_small))"
   ]
  },
  {
   "cell_type": "code",
   "execution_count": 4,
   "metadata": {},
   "outputs": [
    {
     "name": "stdout",
     "output_type": "stream",
     "text": [
      "24960\n",
      "9600\n",
      "400\n"
     ]
    }
   ],
   "source": [
    "#check shape\n",
    "with open('valid_epochs_all_train_fmri_subset.pickle', 'rb') as f:\n",
    "    epochs_train = pickle.load(f)\n",
    "\n",
    "with open('valid_epochs_all_test_fmri_subset.pickle', 'rb') as f:\n",
    "    epochs_test = pickle.load(f)\n",
    "\n",
    "with open('valid_epochs_all_test_small_fmri_subset.pickle', 'rb') as f:\n",
    "    epochs_test_small = pickle.load(f)\n",
    "\n",
    "print(len(epochs_train))\n",
    "print(len(epochs_test))\n",
    "print(len(epochs_test_small))"
   ]
  },
  {
   "cell_type": "code",
   "execution_count": 5,
   "metadata": {},
   "outputs": [
    {
     "name": "stdout",
     "output_type": "stream",
     "text": [
      "(24960, 49232)\n",
      "(9600, 49232)\n",
      "(400, 49232)\n"
     ]
    }
   ],
   "source": [
    "meg_data_train = epochs_train.get_data()\n",
    "meg_data_train = meg_data_train.reshape(meg_data_train.shape[0], -1)\n",
    "\n",
    "meg_data_test = epochs_test.get_data()\n",
    "meg_data_test = meg_data_test.reshape(meg_data_test.shape[0], -1)\n",
    "\n",
    "meg_data_test_small = epochs_test_small.get_data()\n",
    "meg_data_test_small = meg_data_test_small.reshape(meg_data_test_small.shape[0], -1)\n",
    "\n",
    "print(meg_data_train.shape)\n",
    "print(meg_data_test.shape)\n",
    "print(meg_data_test_small.shape)"
   ]
  },
  {
   "cell_type": "code",
   "execution_count": 6,
   "metadata": {},
   "outputs": [
    {
     "name": "stdout",
     "output_type": "stream",
     "text": [
      "(24960, 768)\n",
      "(9600, 768)\n",
      "(400, 768)\n"
     ]
    }
   ],
   "source": [
    "embeddings_data_train = np.vstack([embeddings_train[key] for key in epochs_train.metadata['image_path']])\n",
    "embeddings_data_test = np.vstack([embeddings_test[key] for key in epochs_test.metadata['image_path']])\n",
    "embeddings_data_test_small = np.vstack([embeddings_test_small[key] for key in epochs_test_small.metadata['image_path']])\n",
    "\n",
    "print(embeddings_data_train.shape)\n",
    "print(embeddings_data_test.shape)\n",
    "print(embeddings_data_test_small.shape)"
   ]
  },
  {
   "cell_type": "code",
   "execution_count": 7,
   "metadata": {},
   "outputs": [],
   "source": [
    "from cuml.preprocessing import StandardScaler\n",
    "scaler = StandardScaler()\n",
    "embeddings_data_train = scaler.fit_transform(embeddings_data_train)\n",
    "embeddings_data_test = scaler.transform(embeddings_data_test)\n",
    "embeddings_data_test_small = scaler.transform(embeddings_data_test_small)"
   ]
  },
  {
   "cell_type": "code",
   "execution_count": 8,
   "metadata": {},
   "outputs": [],
   "source": [
    "import torch\n",
    "import torch.nn as nn\n",
    "import torch.optim as optim\n",
    "from torch.utils.data import DataLoader, TensorDataset, random_split\n",
    "import matplotlib.pyplot as plt"
   ]
  },
  {
   "cell_type": "code",
   "execution_count": 9,
   "metadata": {},
   "outputs": [],
   "source": [
    "# Define the neural network\n",
    "class MLPRegressor(nn.Module):\n",
    "    def __init__(self, input_size, output_size):\n",
    "        super(MLPRegressor, self).__init__()\n",
    "        self.model = nn.Sequential(\n",
    "            nn.Linear(input_size, output_size),\n",
    "        )\n",
    "\n",
    "    def forward(self, x):\n",
    "        return self.model(x)"
   ]
  },
  {
   "cell_type": "code",
   "execution_count": 10,
   "metadata": {},
   "outputs": [],
   "source": [
    "# Hyperparameters\n",
    "input_size = meg_data_train.shape[1]\n",
    "output_size = embeddings_data_train.shape[1]\n",
    "max_epochs = 5000\n",
    "learning_rate = 0.003\n",
    "batch_size = 64\n",
    "patience = 2\n",
    "\n",
    "# Check for GPU\n",
    "device = torch.device(\"cuda\" if torch.cuda.is_available() else \"cpu\")\n",
    "\n",
    "# Prepare data\n",
    "data_tensor = torch.tensor(meg_data_train, dtype=torch.float32).to(device)\n",
    "target_tensor = torch.tensor(embeddings_data_train, dtype=torch.float32).to(device)\n",
    "dataset = TensorDataset(data_tensor, target_tensor)\n",
    "\n",
    "# Split dataset into train and validation sets\n",
    "val_size = int(0.2 * len(dataset))\n",
    "train_size = len(dataset) - val_size\n",
    "train_dataset, val_dataset = random_split(dataset, [train_size, val_size])\n",
    "\n",
    "train_loader = DataLoader(train_dataset, batch_size=batch_size, shuffle=True)\n",
    "val_loader = DataLoader(val_dataset, batch_size=batch_size, shuffle=False)\n",
    "\n",
    "# Initialize model, loss, and optimizer\n",
    "model = MLPRegressor(input_size, output_size).to(device)\n",
    "criterion = nn.MSELoss()\n",
    "optimizer = optim.SGD(model.parameters(), lr=learning_rate, momentum=0.9)\n",
    "\n",
    "# Learning rate schedule\n",
    "#scheduler = optim.lr_scheduler.LambdaLR(optimizer, lr_lambda=lambda epoch: 1 / (1 + 0.001 * epoch))"
   ]
  },
  {
   "cell_type": "code",
   "execution_count": 11,
   "metadata": {},
   "outputs": [],
   "source": [
    "# Training loop\n",
    "def train_model():\n",
    "    best_val_loss = float('inf')\n",
    "    patience_counter = 0\n",
    "\n",
    "    train_loss_history = []\n",
    "    val_loss_history = []\n",
    "\n",
    "    for epoch in range(max_epochs):\n",
    "        model.train()\n",
    "        running_loss = 0.0\n",
    "        \n",
    "        for inputs, targets in train_loader:\n",
    "            # Move data to device\n",
    "            inputs, targets = inputs.to(device), targets.to(device)\n",
    "\n",
    "            # Forward pass\n",
    "            outputs = model(inputs)\n",
    "            loss = criterion(outputs, targets)\n",
    "\n",
    "            # Backward pass\n",
    "            optimizer.zero_grad()\n",
    "            loss.backward()\n",
    "            optimizer.step()\n",
    "\n",
    "            running_loss += loss.item()\n",
    "\n",
    "        avg_train_loss = running_loss / len(train_loader)\n",
    "        train_loss_history.append(avg_train_loss)\n",
    "\n",
    "        # Validation loss\n",
    "        model.eval()\n",
    "        val_loss = 0.0\n",
    "        with torch.no_grad():\n",
    "            for val_inputs, val_targets in val_loader:\n",
    "                val_inputs, val_targets = val_inputs.to(device), val_targets.to(device)\n",
    "                val_outputs = model(val_inputs)\n",
    "                val_loss += criterion(val_outputs, val_targets).item()\n",
    "\n",
    "        avg_val_loss = val_loss / len(val_loader)\n",
    "        val_loss_history.append(avg_val_loss)\n",
    "\n",
    "        print(f\"Epoch [{epoch+1}/{max_epochs}], Train Loss: {avg_train_loss:.4f}, Val Loss: {avg_val_loss:.4f}\")\n",
    "\n",
    "        # Early stopping\n",
    "        if avg_val_loss < best_val_loss:\n",
    "            best_val_loss = avg_val_loss\n",
    "            patience_counter = 0\n",
    "        else:\n",
    "            patience_counter += 1\n",
    "\n",
    "        if patience_counter >= patience:\n",
    "            print(\"Early stopping triggered.\")\n",
    "            break\n",
    "\n",
    "        # Update learning rate\n",
    "        #scheduler.step()\n",
    "\n",
    "    # Plot loss curves\n",
    "    plt.figure(figsize=(10, 6))\n",
    "    plt.plot(train_loss_history, label='Train Loss')\n",
    "    plt.plot(val_loss_history, label='Validation Loss')\n",
    "    plt.xlabel('Epochs')\n",
    "    plt.ylabel('Loss')\n",
    "    plt.title('Loss Curves')\n",
    "    plt.legend()\n",
    "    plt.show()"
   ]
  },
  {
   "cell_type": "code",
   "execution_count": 12,
   "metadata": {},
   "outputs": [
    {
     "name": "stdout",
     "output_type": "stream",
     "text": [
      "Epoch [1/5000], Train Loss: 1.1211, Val Loss: 1.0865\n",
      "Epoch [2/5000], Train Loss: 1.0374, Val Loss: 1.0733\n",
      "Epoch [3/5000], Train Loss: 1.0006, Val Loss: 1.0689\n",
      "Epoch [4/5000], Train Loss: 0.9743, Val Loss: 1.0671\n",
      "Epoch [5/5000], Train Loss: 0.9526, Val Loss: 1.0678\n"
     ]
    },
    {
     "name": "stdout",
     "output_type": "stream",
     "text": [
      "Epoch [6/5000], Train Loss: 0.9341, Val Loss: 1.0687\n",
      "Early stopping triggered.\n"
     ]
    },
    {
     "data": {
      "image/png": "[encoded data removed]",
      "text/plain": [
       "<Figure size 1000x600 with 1 Axes>"
      ]
     },
     "metadata": {},
     "output_type": "display_data"
    }
   ],
   "source": [
    "train_model()"
   ]
  },
  {
   "cell_type": "code",
   "execution_count": 13,
   "metadata": {},
   "outputs": [],
   "source": [
    "def make_predictions(data):\n",
    "    # Prepare test data\n",
    "    test_tensor = torch.tensor(data, dtype=torch.float32).to(device)\n",
    "    model.eval()\n",
    "    with torch.no_grad():\n",
    "        predictions = model(test_tensor)\n",
    "    return predictions.cpu().numpy()"
   ]
  },
  {
   "cell_type": "code",
   "execution_count": 14,
   "metadata": {},
   "outputs": [],
   "source": [
    "from sklearn.metrics.pairwise import cosine_similarity\n",
    "\n",
    "def evaluate_top_k_accuracy(y_pred, y_true, k=5, num_participants=1):\n",
    "    \"\"\"Evaluate top-k accuracy using cosine similarity for embeddings.\"\"\"\n",
    "    num_indices = y_true.shape[0]/num_participants\n",
    "\n",
    "    correct_predictions = 0\n",
    "\n",
    "    for i in range(num_participants):\n",
    "        y_pred_participant = y_pred[int(i*num_indices):int((i+1)*num_indices)]\n",
    "        y_true_participant = y_true[int(i*num_indices):int((i+1)*num_indices)]\n",
    "        n_samples = y_true_participant.shape[0]\n",
    "\n",
    "        ## returns a n_samples X n_samples matrix\n",
    "        similarity_matrix = cosine_similarity(y_pred_participant, y_true_participant)\n",
    "        \n",
    "        # Get the indices of the sorted similarities in descending order\n",
    "        sorted_indices = np.argsort(-similarity_matrix, axis=1) #axis = 1 sorts across i.e. sorts across y_true for each pred\n",
    "        \n",
    "        # Check if the true index is within the top-k predictions for each sample\n",
    "        for i in range(n_samples):\n",
    "            if i in sorted_indices[i, :k]:\n",
    "                correct_predictions += 1\n",
    "    \n",
    "    top_k_acc = correct_predictions / y_true.shape[0]\n",
    "    return top_k_acc"
   ]
  },
  {
   "cell_type": "code",
   "execution_count": 15,
   "metadata": {},
   "outputs": [
    {
     "name": "stdout",
     "output_type": "stream",
     "text": [
      "Top-5 accuracy: 0.0082\n"
     ]
    }
   ],
   "source": [
    "top_5_acc = evaluate_top_k_accuracy(make_predictions(meg_data_test), embeddings_data_test, k=5, num_participants=4)\n",
    "print(f\"Top-5 accuracy: {top_5_acc:.4f}\")"
   ]
  },
  {
   "cell_type": "code",
   "execution_count": 16,
   "metadata": {},
   "outputs": [
    {
     "name": "stdout",
     "output_type": "stream",
     "text": [
      "0.1325\n"
     ]
    }
   ],
   "source": [
    "top_5_acc = evaluate_top_k_accuracy(make_predictions(meg_data_test_small), embeddings_data_test_small, k=5, num_participants=4)\n",
    "print(top_5_acc)"
   ]
  },
  {
   "cell_type": "code",
   "execution_count": 17,
   "metadata": {},
   "outputs": [
    {
     "name": "stdout",
     "output_type": "stream",
     "text": [
      "0.6777644230769231\n"
     ]
    }
   ],
   "source": [
    "top_5_acc = evaluate_top_k_accuracy(make_predictions(meg_data_train), embeddings_data_train, k=5, num_participants=4)\n",
    "print(top_5_acc)"
   ]
  },
  {
   "cell_type": "code",
   "execution_count": 18,
   "metadata": {},
   "outputs": [],
   "source": [
    "#Save the PyTorch model\n",
    "torch.save(model.state_dict(), os.path.join(dir_name, 'meg_mlp_fmri_subset.pth'))"
   ]
  },
  {
   "cell_type": "code",
   "execution_count": null,
   "metadata": {},
   "outputs": [],
   "source": []
  }
 ],
 "metadata": {
  "kernelspec": {
   "display_name": "Python 3 (ipykernel)",
   "language": "python",
   "name": "python3"
  },
  "language_info": {
   "codemirror_mode": {
    "name": "ipython",
    "version": 3
   },
   "file_extension": ".py",
   "mimetype": "text/x-python",
   "name": "python",
   "nbconvert_exporter": "python",
   "pygments_lexer": "ipython3",
   "version": "3.12.2"
  }
 },
 "nbformat": 4,
 "nbformat_minor": 2
}
