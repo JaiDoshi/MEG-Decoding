{
 "cells": [
  {
   "cell_type": "code",
   "execution_count": 1,
   "metadata": {},
   "outputs": [],
   "source": [
    "import os\n",
    "# os.chdir('./net2neuro')\n",
    "from tqdm import tqdm\n",
    "import pickle\n",
    "import mne\n",
    "import pandas as pd\n",
    "import numpy as np\n",
    "import torch\n",
    "from torch import nn\n",
    "from torch.utils.data import Dataset, DataLoader, random_split\n",
    "# from simpleconv import SimpleConv\n",
    "import torch.optim as optim\n",
    "from tqdm.auto import tqdm\n",
    "import matplotlib.pyplot as plt"
   ]
  },
  {
   "cell_type": "code",
   "execution_count": 2,
   "metadata": {},
   "outputs": [],
   "source": [
    "%load_ext autoreload\n",
    "%autoreload 2"
   ]
  },
  {
   "cell_type": "code",
   "execution_count": 2,
   "metadata": {},
   "outputs": [],
   "source": [
    "base_dir = '/scratch/jd5697/cv_project'"
   ]
  },
  {
   "cell_type": "code",
   "execution_count": 27,
   "metadata": {},
   "outputs": [
    {
     "name": "stdout",
     "output_type": "stream",
     "text": [
      "6240 2400 100\n"
     ]
    }
   ],
   "source": [
    "embeddings_train_fmri_subset = np.load(os.path.join(base_dir, 'image_embeddings_vit_train_fmri_subset.npy'), allow_pickle=True).item()\n",
    "embeddings_test_fmri_subset = np.load(os.path.join(base_dir, 'image_embeddings_vit_test_fmri_subset.npy'), allow_pickle=True).item()\n",
    "embeddings_test_small_fmri_subset = np.load(os.path.join(base_dir, 'image_embeddings_vit_test_small_fmri_subset.npy'), allow_pickle=True).item()\n",
    "\n",
    "print(len(embeddings_train_fmri_subset), len(embeddings_test_fmri_subset), len(embeddings_test_small_fmri_subset))"
   ]
  },
  {
   "cell_type": "code",
   "execution_count": 5,
   "metadata": {},
   "outputs": [],
   "source": [
    "n_participants = 4"
   ]
  },
  {
   "cell_type": "code",
   "execution_count": 34,
   "metadata": {},
   "outputs": [
    {
     "name": "stdout",
     "output_type": "stream",
     "text": [
      "79392 9600 800\n"
     ]
    }
   ],
   "source": [
    "with open('valid_epochs_all_train_resplit.pickle', 'rb') as f:\n",
    "    epochs_train = pickle.load(f)\n",
    "\n",
    "with open('valid_epochs_all_test_resplit.pickle', 'rb') as f:\n",
    "    epochs_test = pickle.load(f)\n",
    "\n",
    "with open('valid_epochs_small_test_resplit.pickle', 'rb') as f:\n",
    "    epochs_test_small = pickle.load(f)\n",
    "\n",
    "print(len(epochs_train), len(epochs_test), len(epochs_test_small))"
   ]
  },
  {
   "cell_type": "code",
   "execution_count": 35,
   "metadata": {},
   "outputs": [
    {
     "name": "stdout",
     "output_type": "stream",
     "text": [
      "24960 6240\n"
     ]
    }
   ],
   "source": [
    "epochs_train.metadata['embedding_exists'] = epochs_train.metadata['image_path'].apply(lambda x: x in embeddings_train_fmri_subset)\n",
    "epochs_train = epochs_train[epochs_train.metadata['embedding_exists']]\n",
    "epochs_train.metadata.drop(columns=['embedding_exists'], inplace=True)\n",
    "epochs_train.metadata.reset_index(drop=True, inplace=True)\n",
    "\n",
    "print(len(epochs_train), len(epochs_train) // n_participants)"
   ]
  },
  {
   "cell_type": "code",
   "execution_count": 36,
   "metadata": {},
   "outputs": [
    {
     "name": "stdout",
     "output_type": "stream",
     "text": [
      "9600 2400\n"
     ]
    }
   ],
   "source": [
    "epochs_test.metadata['embedding_exists'] = epochs_test.metadata['image_path'].apply(lambda x: x in embeddings_test_fmri_subset)\n",
    "epochs_test = epochs_test[epochs_test.metadata['embedding_exists']]\n",
    "epochs_test.metadata.drop(columns=['embedding_exists'], inplace=True)\n",
    "epochs_test.metadata.reset_index(drop=True, inplace=True)\n",
    "\n",
    "print(len(epochs_test), len(epochs_test) // n_participants)"
   ]
  },
  {
   "cell_type": "code",
   "execution_count": 37,
   "metadata": {},
   "outputs": [
    {
     "name": "stdout",
     "output_type": "stream",
     "text": [
      "400 100\n"
     ]
    }
   ],
   "source": [
    "epochs_test_small.metadata['embedding_exists'] = epochs_test_small.metadata['image_path'].apply(lambda x: x in embeddings_test_small_fmri_subset)\n",
    "epochs_test_small = epochs_test_small[epochs_test_small.metadata['embedding_exists']]\n",
    "epochs_test_small.metadata.drop(columns=['embedding_exists'], inplace=True)\n",
    "epochs_test_small.metadata.reset_index(drop=True, inplace=True)\n",
    "\n",
    "print(len(epochs_test_small), len(epochs_test_small) // n_participants)"
   ]
  },
  {
   "cell_type": "code",
   "execution_count": 38,
   "metadata": {},
   "outputs": [],
   "source": [
    "with open('valid_epochs_all_train_fmri_subset.pickle', 'wb') as f:\n",
    "    pickle.dump(epochs_train, f, protocol=pickle.HIGHEST_PROTOCOL)"
   ]
  },
  {
   "cell_type": "code",
   "execution_count": 39,
   "metadata": {},
   "outputs": [],
   "source": [
    "with open('valid_epochs_all_test_fmri_subset.pickle', 'wb') as f:\n",
    "    pickle.dump(epochs_test, f, protocol=pickle.HIGHEST_PROTOCOL)"
   ]
  },
  {
   "cell_type": "code",
   "execution_count": 40,
   "metadata": {},
   "outputs": [],
   "source": [
    "with open('valid_epochs_all_test_small_fmri_subset.pickle', 'wb') as f:\n",
    "    pickle.dump(epochs_test_small, f, protocol=pickle.HIGHEST_PROTOCOL)"
   ]
  }
 ],
 "metadata": {
  "kernelspec": {
   "display_name": "Python 3 (ipykernel)",
   "language": "python",
   "name": "python3"
  },
  "language_info": {
   "codemirror_mode": {
    "name": "ipython",
    "version": 3
   },
   "file_extension": ".py",
   "mimetype": "text/x-python",
   "name": "python",
   "nbconvert_exporter": "python",
   "pygments_lexer": "ipython3",
   "version": "3.12.2"
  }
 },
 "nbformat": 4,
 "nbformat_minor": 2
}
